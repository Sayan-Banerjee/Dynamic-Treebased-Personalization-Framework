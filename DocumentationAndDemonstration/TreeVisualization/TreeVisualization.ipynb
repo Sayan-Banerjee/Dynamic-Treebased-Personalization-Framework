{
 "cells": [
  {
   "cell_type": "code",
   "execution_count": 1,
   "metadata": {},
   "outputs": [],
   "source": [
    "from ClusterTree import *\n",
    "from ReadWritePickleFile import *\n",
    "from graphviz import Digraph, nohtml"
   ]
  },
  {
   "cell_type": "code",
   "execution_count": 2,
   "metadata": {},
   "outputs": [],
   "source": [
    "class Queue:\n",
    "    def __init__(self):\n",
    "        self.items = []\n",
    "\n",
    "    def isEmpty(self):\n",
    "        return self.items == []\n",
    "\n",
    "    def enqueue(self, item):\n",
    "        self.items.insert(0,item)\n",
    "\n",
    "    def dequeue(self):\n",
    "        return self.items.pop()\n",
    "\n",
    "    def size(self):\n",
    "        return len(self.items)\n",
    "\n",
    "\n",
    "def TreeVisualization(tree, filename):\n",
    "    node = tree.getRoot()\n",
    "    g = Digraph('g', filename=filename, node_attr={'shape': 'record', 'height': '.1'})\n",
    "    queue = Queue()\n",
    "    i = 0\n",
    "    str1 = '''A:{}, AT:{}, V:{}, OC:{}'''.format(node.getAttribute(), node.getAttributeType(), node.getDecidingValue(),\n",
    "                                           node.getOperationCode())\n",
    "    queue.enqueue(('node'+str(i), node))\n",
    "    nodeVal = '<f0> |<f1> {}|<f2>'.format(str1)\n",
    "    g.node('node'+str(i), nohtml(nodeVal))\n",
    "    i+=1\n",
    "    while not queue.isEmpty(): \n",
    "  \n",
    "            # Dequeue a vertex from  \n",
    "            # queue and print it \n",
    "            keyValue = queue.dequeue()\n",
    "            key = keyValue[0]\n",
    "            val = keyValue[1]\n",
    "            if not val.isLeaf():\n",
    "                lChild = val.getLeft()\n",
    "                if not lChild.isLeaf():\n",
    "                    str1 ='''A:{}, AT:{}, \n",
    "                             V:{}, OC:{}\n",
    "                             '''.format(lChild.getAttribute(), lChild.getAttributeType()[0],\n",
    "                                                    lChild.getDecidingValue(), lChild.getOperationCode())\n",
    "                else:\n",
    "                    str1 = '''CID: {}\n",
    "                           '''.format(lChild.getClusterId()[lChild.getClusterId().find(\"__\")+2:])\n",
    "                    \n",
    "                queue.enqueue(('node'+str(i), lChild))\n",
    "                nodeVal = '<f0> |<f1> {}|<f2>'.format(str1)\n",
    "                g.node('node'+str(i), nohtml(nodeVal))\n",
    "                g.edge('{}:f0'.format(key), '{}:f1'.format('node'+str(i)))\n",
    "                i+=1\n",
    "                if val.getRight():\n",
    "                    rChild = val.getRight()\n",
    "                    if not rChild.isLeaf():\n",
    "                        str2 ='''A:{}, AT:{}, \n",
    "                             V:{}, OC:{}\n",
    "                             '''.format(rChild.getAttribute(), rChild.getAttributeType()[0],\n",
    "                                                    rChild.getDecidingValue(), rChild.getOperationCode())\n",
    "                    else:\n",
    "                        str2 = '''CID: {}\n",
    "                           '''.format(rChild.getClusterId()[rChild.getClusterId().find(\"__\")+2:])\n",
    "                        \n",
    "                    queue.enqueue(('node'+str(i), rChild))\n",
    "                    nodeVal = '<f0> |<f1> {}|<f2>'.format(str2)\n",
    "                    g.node('node'+str(i), nohtml(nodeVal))\n",
    "                    g.edge('{}:f2'.format(key), '{}:f1'.format('node'+str(i)))\n",
    "                    i+=1\n",
    "                \n",
    "    g.view() "
   ]
  },
  {
   "cell_type": "code",
   "execution_count": 3,
   "metadata": {},
   "outputs": [],
   "source": [
    "tree = readPicklefile('dataAUHISB_06_11_2019_mixed_356815161718_v1_200_pt001.pickle')"
   ]
  },
  {
   "cell_type": "code",
   "execution_count": 4,
   "metadata": {},
   "outputs": [],
   "source": [
    "filename = './Tree.gv'\n",
    "TreeVisualization(tree, filename)"
   ]
  },
  {
   "cell_type": "code",
   "execution_count": 5,
   "metadata": {},
   "outputs": [],
   "source": [
    "def DEBUG_getClusterID(info, tree):\n",
    "        ## Iterative\n",
    "        assert isinstance(info, dict), logger.error(\"ClusterTree.getClusterID() expects information to be passed in\\\n",
    "        python dictionary(key-value pair) format!\")\n",
    "\n",
    "        info = dict((k.lower().strip().lower(), v) for k, v in info.items())\n",
    "\n",
    "        curNode = tree.root\n",
    "        clusterID = None\n",
    "        while clusterID is None and curNode is not None:\n",
    "            if curNode.isLeaf():\n",
    "                clusterID = curNode.getClusterId()\n",
    "                break\n",
    "\n",
    "            val = curNode.getDecidingValue()\n",
    "            opcode = curNode.getOperationCode()\n",
    "            att = curNode.getAttribute()\n",
    "            acceptedDtypes = tree.attributeToDataType[att]\n",
    "\n",
    "            if str in acceptedDtypes:\n",
    "                if not isinstance(val, str):\n",
    "                    val = str(val)\n",
    "\n",
    "                val = str(val).strip().lower()\n",
    "\n",
    "            nodeVal = info.get(att, tree.defaultVals[att])\n",
    "            if isinstance(nodeVal, str):\n",
    "                nodeVal = nodeVal.strip().lower()\n",
    "                if isinstance(nodeVal, str) and \\\n",
    "                        ((nodeVal[0] == '-' and nodeVal.replace('-','',1).replace('.','',1).isdecimal()) or\n",
    "                         (nodeVal[0] != '-' and nodeVal.replace('.','',1).isdecimal())):\n",
    "                    nodeVal = str(float(nodeVal))\n",
    "            else:\n",
    "                nodeVal = str(float(nodeVal))\n",
    "            \n",
    "            acceptedDtypes = tree.attributeToDataType[att]\n",
    "            flag = False\n",
    "            for typ in acceptedDtypes:\n",
    "                flag = flag or isinstance(nodeVal, typ)\n",
    "\n",
    "            if not flag:\n",
    "                if isinstance(nodeVal, str):\n",
    "                    nodeVal = float(nodeVal)\n",
    "                    \n",
    "            print (\"Deciding Value: {}, Attribute: {}, Opcode: {}, Current Vlaue: {}\".format(val, att, opcode, nodeVal))\n",
    "            if opcode == 1:\n",
    "                if isinstance(nodeVal, str):\n",
    "                    logger.error(\"Unexpected data for Attribute: {}, Passed Value: {}, Numerical data expected!\".format(att, nodeVal))\n",
    "                    nodeVal = self.defaultVals[att]\n",
    "                if nodeVal<= val:\n",
    "                    curNode = curNode.getLeft()\n",
    "                    print (\"Going Left\")\n",
    "                else:\n",
    "                    curNode = curNode.getRight()\n",
    "                    print (\"Going Right\")\n",
    "            elif opcode == 2:\n",
    "                if nodeVal not in val:\n",
    "                    \n",
    "                    curNode = curNode.getLeft()\n",
    "                    print (\"Going Left\")\n",
    "                else:\n",
    "                    curNode = curNode.getRight()\n",
    "                    print (\"Going Right\")\n",
    "            elif opcode == 3:\n",
    "                if nodeVal != val:\n",
    "                    curNode = curNode.getLeft()\n",
    "                    print (\"Going Left\")\n",
    "                else:\n",
    "                    curNode = curNode.getRight()\n",
    "                    print (\"Going Right\")\n",
    "\n",
    "        return clusterID, 2"
   ]
  },
  {
   "cell_type": "code",
   "execution_count": 6,
   "metadata": {},
   "outputs": [],
   "source": [
    "tree = readPicklefile('Integration-Test-10-withOption2-mergingCentroids_V5_1_Silhouette.pickle')"
   ]
  },
  {
   "cell_type": "code",
   "execution_count": 7,
   "metadata": {},
   "outputs": [],
   "source": [
    "filename = './TreeTest10.gv'\n",
    "TreeVisualization(tree, filename)"
   ]
  },
  {
   "cell_type": "code",
   "execution_count": 10,
   "metadata": {},
   "outputs": [],
   "source": [
    "info = {'arrivaldate-weekday': 'Tuesday', 'leaddays': 7, 'channel-id': 1}"
   ]
  },
  {
   "cell_type": "code",
   "execution_count": 12,
   "metadata": {},
   "outputs": [
    {
     "name": "stdout",
     "output_type": "stream",
     "text": [
      "Deciding Value: ['3.0'], Attribute: channel-id, Opcode: 2, Current Vlaue: 1.0\n",
      "Going Left\n",
      "Deciding Value: 3.0, Attribute: lang-id, Opcode: 3, Current Vlaue: 1.0\n",
      "Going Left\n",
      "Deciding Value: 12.0, Attribute: channel-id, Opcode: 3, Current Vlaue: 1.0\n",
      "Going Left\n",
      "Deciding Value: 157.0, Attribute: leaddays, Opcode: 1, Current Vlaue: 7.0\n",
      "Going Left\n",
      "Deciding Value: 1.0, Attribute: channel-id, Opcode: 3, Current Vlaue: 1.0\n",
      "Going Right\n"
     ]
    },
    {
     "data": {
      "text/plain": [
       "('test-w/option-2-mergingcentroids_v5_1_silhouette__cluster_default', 2)"
      ]
     },
     "execution_count": 12,
     "metadata": {},
     "output_type": "execute_result"
    }
   ],
   "source": [
    "DEBUG_getClusterID(info, tree)"
   ]
  },
  {
   "cell_type": "code",
   "execution_count": null,
   "metadata": {},
   "outputs": [],
   "source": []
  }
 ],
 "metadata": {
  "kernelspec": {
   "display_name": "Python [conda env:AI-ML] *",
   "language": "python",
   "name": "conda-env-AI-ML-py"
  },
  "language_info": {
   "codemirror_mode": {
    "name": "ipython",
    "version": 3
   },
   "file_extension": ".py",
   "mimetype": "text/x-python",
   "name": "python",
   "nbconvert_exporter": "python",
   "pygments_lexer": "ipython3",
   "version": "3.6.9"
  }
 },
 "nbformat": 4,
 "nbformat_minor": 2
}
