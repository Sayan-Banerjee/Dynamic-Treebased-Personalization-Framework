{
 "cells": [
  {
   "cell_type": "markdown",
   "metadata": {},
   "source": [
    "## This notebook demostrate how build a ML model from bunch of **\"Mutually Exclusive and Collectively Exhaustive\"** rules. \n",
    "\n",
    "### Steps are as Follows:\n",
    "\n",
    "1. Expect the rules to be provided in a .json format. [Consult DemoRuleBasedSegmentation.xlsx and writePickleFile.ipynb/.html] to understand how the data is presented in staticClustering.pickle. This program will read staticClustering.pickle and do the further work as needed. \n",
    "\n",
    "2. Every variable/feature/attribute required to provide a range to dictate the various valus it can take. For categorical variables it must a list of all the values the underlying variable can take. For numerical variables the job can be done by providing Min and Max. \n",
    "\n",
    "3. 1st step is validating all the cluster conditions. It checks for if all the variables mentioned in all the cluster rules of all the clusters are of expected data type and within the range or set of expected values.\n",
    "\n",
    "4. Based on the cluster conditions we curate a data-set for the decision tree to get trained on. Consult, curatedData.csv to get more idea. \n",
    "\n",
    "5. Validate the exclusivity of the cluster conditions by accuracy of the \"DecisionTreeClassifier\". If your cluster condtions are mutually exclusive and colllectively exhaustive, the accuracy would be 1. or 100%. \n",
    "\n",
    "6. At this moment we construct a list of instaces of [Attribute Class] attributes from the tree returned by \"DecisionTreeClassifier\". \n",
    "\n",
    "7. Once we constructed our list of instaces of [Attribute Class] , we traverse the tree returned by \"DecisionTreeClassifier\" to build our simple \"ClusterTree\" and then assign default conditions and expected data type for each attribute. At the end we store the \"ClusterTree\" for future use in \".pickle\" format.\n",
    "\n",
    "\n",
    "Git Hub Link of DecisionTreeClassifier: https://github.com/scikit-learn/scikit-learn/blob/1495f6924/sklearn/tree/tree.py \n",
    "\n",
    "We are just re-purposing the original \"DecisionTreeClassifier\" algorithm. \n",
    "Reusing 6 attributes of the original tree returned by \"DecisionTreeClassifier\" after it got trained on our curated data. \n",
    "\n",
    "The attributes we are using are, threshold, feature, value and in addition one known flag value , -2. \n",
    "\n",
    "1. -2 is flag to denote \"leaf\" or terminal node at original decision tree. \n",
    "2. \"threshold\" is a 1D array. Each index is a proxy Node Id. At each index the content of this array denotes\n",
    "    what is the \"deciding\" value at current node unless the value is -2. In that case it is the leaf node. There is\n",
    "    no further path on this route. \n",
    "3. \"value\" is a 2D array. The first index is a proxy Node Id. Here the tree store frequency/count of each \"calss\"es\n",
    "    at current node. As our conditions has to be \"Mutually Exclusive and Collectively Exhaustive\" all the leaf nodes \n",
    "    contains data from just one class/cluster. Target classes are sorted alphabetically.\n",
    "4. Like \"threshold\", \"feature\" is also a 1-D array. Each index is a proxy Node Id. Unless it is a leaf node(denoted by     -2), at each index the content of this array holds index of the feature on which the \"deciding value mentioned at     \"threshold\" applies.\n",
    "5. \"children_left\" and \"children_right\" also are two 1-D arrays. Each index is a proxy Node Id at both. At each index     the content of these arrays denotes the index of its left or right child's index unless current node is a leaf         node, in that case it is -1 to indicate left/right child of this node do not exist.\n",
    "\n",
    "The final \"ClusterTree\" has been built by traversing the **tree** returned by \"DecisionTreeClassifier\". "
   ]
  },
  {
   "cell_type": "code",
   "execution_count": 1,
   "metadata": {},
   "outputs": [],
   "source": [
    "import logging\n",
    "from sklearn.tree import DecisionTreeClassifier\n",
    "import numpy as np\n",
    "import pandas as pd\n",
    "import re\n",
    "import datetime\n",
    "import math\n",
    "from ClusterTree import *\n",
    "from Attribute import *\n",
    "from BasicDataPrep_V1 import calcWeekEndMidEarlyWeek\n",
    "from ReadWritePickleFile import *\n",
    "from ClusterTree_Utility import *\n",
    "from itertools import product"
   ]
  },
  {
   "cell_type": "code",
   "execution_count": 2,
   "metadata": {},
   "outputs": [],
   "source": [
    "logging.basicConfig(format=\"%(asctime)s - %(thread)s - %(levelname)s - %(message)s\")\n",
    "logger = logging.getLogger()\n",
    "logger.setLevel(logging.INFO)"
   ]
  },
  {
   "cell_type": "code",
   "execution_count": 3,
   "metadata": {},
   "outputs": [],
   "source": [
    "def validationOfClusterConditions(StaticClustering):\n",
    "    types = StaticClustering['Attributes']['Type']\n",
    "    ranges = StaticClustering['Attributes']['Ranges']\n",
    "\n",
    "    for key in StaticClustering['Clusters'].keys():\n",
    "        cluster = StaticClustering['Clusters'][key]\n",
    "        for criteria in cluster:\n",
    "            for k in ranges.keys():\n",
    "                if types[k] == 'Numerical' and k in criteria.keys():\n",
    "                    assert (isinstance(criteria[k], list) or isinstance(criteria[k], tuple) or isinstance(criteria[k], set)) and\\\n",
    "                    criteria[k][0] >= ranges[k][0] and criteria[k][1] <= ranges[k][1],\\\n",
    "                    logger.error(\"Check the range of Attribute {}, of Cluster {}\".format(k, key))\n",
    "\n",
    "                elif types[k] == 'Categorical' and k in criteria.keys():\n",
    "                    assert (isinstance(criteria[k], list) or isinstance(criteria[k], tuple) or isinstance(criteria[k], set)) and\\\n",
    "                    len(set(criteria[k]) - set(ranges[k]))==0,\\\n",
    "                    logger.error(\"Check the values of Attribute {}, of Cluster {}\".format(k, key))\n",
    "\n",
    "                else:\n",
    "                    print (\"Variable added\")\n",
    "                    criteria[k] = ranges[k]\n",
    "                    \n",
    "    return StaticClustering\n",
    "\n",
    "def DataCuration(StaticClustering):\n",
    "    types = StaticClustering['Attributes']['Type']\n",
    "    ranges = StaticClustering['Attributes']['Ranges']\n",
    "    rKeys = list(ranges.keys())\n",
    "    curatedData = pd.DataFrame(columns=rKeys+['cluster'])\n",
    "    dataset = {}\n",
    "    for key in StaticClustering['Clusters'].keys():\n",
    "        cluster = StaticClustering['Clusters'][key]\n",
    "        for criteria in cluster:\n",
    "            data =[]\n",
    "            for k in rKeys:\n",
    "                if types[k] == 'Numerical' and k in criteria.keys():\n",
    "                    d = [criteria[k][0], criteria[k][1]]\n",
    "                    #d = [criteria[k][0] for i in range(10)] + d + [criteria[k][1] for j in range(10)]\n",
    "\n",
    "                elif types[k] == 'Categorical' and k in criteria.keys():\n",
    "                    d = criteria[k] if isinstance(criteria[k], list) else list(criteria[k])\n",
    "\n",
    "                elif types[k] == 'Numerical':\n",
    "                    d = [ranges[k][0], ranges[k][1]]\n",
    "                elif types[k] == 'Categorical':\n",
    "                    d = ranges[k] if isinstance(ranges[k], list) else list(ranges[k])\n",
    "                else:\n",
    "                    d = ranges[k]\n",
    "\n",
    "                data.append(d)\n",
    "            data = [i for i in product(*data)]\n",
    "            tmp = pd.DataFrame(data, columns = rKeys)\n",
    "            tmp['cluster'] = key\n",
    "            curatedData = pd.concat([curatedData, tmp], ignore_index=True)\n",
    "            \n",
    "    curatedData.to_csv('./curatedData.csv')\n",
    "    \n",
    "    return curatedData"
   ]
  },
  {
   "cell_type": "code",
   "execution_count": 4,
   "metadata": {},
   "outputs": [],
   "source": [
    "def validateNumericDataType(df):\n",
    "    columnsSet = list(df.columns)\n",
    "    notNumericCols  = []\n",
    "    sample = dict (df.loc[0])\n",
    "    for key in sample.keys():\n",
    "        if isinstance(sample[key], str) and not sample[key].isdecimal() and key!='cluster':\n",
    "            notNumericCols.append(key)\n",
    "            \n",
    "    numericCols = [i for i in columnsSet if i not in notNumericCols + ['cluster']]\n",
    "    df[numericCols] = df[numericCols].apply(pd.to_numeric)\n",
    "    return df, notNumericCols\n",
    "\n",
    "def getXandY(df, notNumericCols):\n",
    "    df = pd.get_dummies(df, columns=notNumericCols)\n",
    "    xCols = [col for col in df.columns if col!='cluster']\n",
    "    X = df[xCols].values\n",
    "    Y = df['cluster'].values\n",
    "    return df, X, Y, xCols\n",
    "\n",
    "def createCART(X, Y):\n",
    "    tree = DecisionTreeClassifier()\n",
    "    tree.fit(X=X, y=Y)\n",
    "    assert tree.score(X=X,y=Y) == 1.0, logger.error(\"Your conditions are NOT mutually exclusive!!!\")\n",
    "    return tree\n",
    "\n",
    "def getTargetNames(df, tree):\n",
    "    targets ={}\n",
    "    for i in df['cluster']:\n",
    "        if i not in targets.keys():\n",
    "            targets[i] = 0\n",
    "\n",
    "        targets[i]+=1\n",
    "\n",
    "    x = tree.tree_.value[0][0]\n",
    "    z = sorted(targets.items(), key=lambda x: x[0])\n",
    "    y = np.array([float(val[1]) for val in z])\n",
    "    assert np.array_equal(x,y),\\\n",
    "            logger.error(\"Something went wrong!, Try training with one hot encoded target columns!\")\n",
    "    target_names = [val[0] for val in z]\n",
    "    \n",
    "    return target_names"
   ]
  },
  {
   "cell_type": "code",
   "execution_count": 5,
   "metadata": {},
   "outputs": [],
   "source": [
    "def getSimpleAttributesCART(data, featureNames):\n",
    "    # Assert node is an instance of CLNode\n",
    "    \n",
    "    assert isinstance(data, pd.DataFrame) and (isinstance(featureNames, list) or isinstance(featureNames, tuple) or isinstance(featureNames, set))\n",
    "    \n",
    "    minMax = data.describe().loc[['min', 'max']][featureNames]\n",
    "    uniqueVals = data.nunique()\n",
    "    attributes = {}\n",
    "    for att in featureNames:\n",
    "        attribute = Attribute(att, uniqueVals[att], minMax.loc['max'][att], minMax.loc['min'][att])\n",
    "        attributes[att] = attribute\n",
    "        \n",
    "    \n",
    "    for key in attributes.keys():\n",
    "        if attributes[key].type == 'Calculated' and re.findall(\"_weekend$\", attributes[key].name):\n",
    "            attributes[key].setOriginalAttributeVal(['friday', 'saturday', 'fri', 'sat'])\n",
    "            \n",
    "        elif attributes[key].type == 'Calculated' and re.findall(\"_midweek$\", attributes[key].name):\n",
    "            attributes[key].setOriginalAttributeVal(['tuesday','wednesday', 'thursday','tue', 'wed', 'thu'])\n",
    "            \n",
    "        elif attributes[key].type == 'Calculated' and re.findall(\"_earlyweek$\", attributes[key].name):\n",
    "            attributes[key].setOriginalAttributeVal(['sunday', 'monday', 'sun', 'mon'])\n",
    "    \n",
    "\n",
    "    return attributes\n",
    "\n",
    "def buildSimpleClusterTreefromCART(classificationTree, node, depth, simpleTreeNode, featureNames, target_names, attributes, targetOneHotEncoded=False):\n",
    "    curNode = ClusterTreeNode()\n",
    "    if classificationTree.feature[node] == -2:\n",
    "        curNode.setParent(simpleTreeNode)\n",
    "        if targetOneHotEncoded:\n",
    "            targets = [classificationTree.value[node][i][1] for i in range (len(classificationTree.value[node]))]\n",
    "            result = np.where(targets == max(targets)) \n",
    "            result = result[0][0]\n",
    "            clusterID = target_names[result]\n",
    "        else:\n",
    "            for i in range(len(target_names)):\n",
    "                if classificationTree.value[node][0][i]>0:\n",
    "                    clusterID = target_names[i]\n",
    "                    break\n",
    "        clusterID = clusterID.strip().lower()\n",
    "        curNode.setClusterId(clusterID)\n",
    "    else:\n",
    "        i = classificationTree.feature[node]\n",
    "        attribute = featureNames[i]\n",
    "        cutValue = classificationTree.threshold[node]\n",
    "        \n",
    "        if attributes[attribute].type == 'Categorical' or attributes[attribute].type == 'Calculated':\n",
    "            curNode.setAttribute(attribute=attributes[attribute].originalAttribute, attributeType=attributes[attribute].type)\n",
    "            curNode.setValue(attributes[attribute].originalAttributeVal)\n",
    "\n",
    "        else:\n",
    "            curNode.setAttribute(attribute=attributes[attribute].originalAttribute, attributeType=attributes[attribute].type)\n",
    "            curNode.setValue(cutValue)\n",
    "            \n",
    "        curNode.setParent(simpleTreeNode)\n",
    "        \n",
    "        left = buildSimpleClusterTreefromCART(classificationTree, classificationTree.children_left[node], depth+1, curNode, featureNames, target_names, attributes, targetOneHotEncoded)\n",
    "        curNode.setLeft(left)\n",
    "        right = buildSimpleClusterTreefromCART(classificationTree, classificationTree.children_right[node], depth+1, curNode, featureNames, target_names, attributes, targetOneHotEncoded)\n",
    "        curNode.setRight(right)\n",
    "        \n",
    "    return curNode"
   ]
  },
  {
   "cell_type": "code",
   "execution_count": 6,
   "metadata": {},
   "outputs": [],
   "source": [
    "def getClusterTreeFromRules(staticClusterFilePath, prevVer):\n",
    "    data = readPicklefile(staticClusterFilePath)\n",
    "    defaultValues = data['Attributes']['Default']\n",
    "    defaultValues = dict((k.strip().lower(), v.lower().strip() if isinstance(v, str) else v) for \n",
    "                        k,v in defaultValues.items())\n",
    "    data = validationOfClusterConditions(data)\n",
    "    df = DataCuration(data)\n",
    "    newColumnNames =dict()\n",
    "    for col in df.columns:\n",
    "        newColumnNames[col] = col.strip().lower()    \n",
    "    df.rename(columns=newColumnNames, inplace=True)\n",
    "    df,_,_,_,_,_ = calcWeekEndMidEarlyWeek(df)\n",
    "    df, notNumericCols = validateNumericDataType(df)\n",
    "    df, X, Y, xCols = getXandY(df=df, notNumericCols=notNumericCols)\n",
    "    tree = createCART(X, Y)\n",
    "    attributes = getSimpleAttributesCART(df, xCols)\n",
    "    target_names = getTargetNames(df, tree)\n",
    "    node = buildSimpleClusterTreefromCART(tree.tree_ , 0, 1, None, xCols, target_names, attributes, False)\n",
    "    utc_now = datetime.datetime.now()\n",
    "    deltaVer = math.ceil(float((utc_now - datetime.datetime(1970, 1, 1)).total_seconds()))\n",
    "    deltaVer = float(\".\" + str(deltaVer))\n",
    "    if math.floor(prevVer) == 1:\n",
    "        curVer = 1.0 + deltaVer\n",
    "    else:\n",
    "        curVer = 1.0\n",
    "    clusterTree = ClusterTree(node, defaultValues, curVer)\n",
    "    return clusterTree, tree"
   ]
  },
  {
   "cell_type": "code",
   "execution_count": 7,
   "metadata": {},
   "outputs": [],
   "source": [
    "clusterTree, tree = getClusterTreeFromRules(staticClusterFilePath='./staticClustering.pickle', prevVer=-1)\n",
    "attributes, clusters = getAttributesAndClusters(clusterTree)"
   ]
  },
  {
   "cell_type": "code",
   "execution_count": 8,
   "metadata": {},
   "outputs": [
    {
     "data": {
      "text/plain": [
       "('midweekfamilygetaway', 1.0)"
      ]
     },
     "execution_count": 8,
     "metadata": {},
     "output_type": "execute_result"
    }
   ],
   "source": [
    "info = {'Adults': 2,'Children': 1,'LeadDays': 3,'LengthOfStay':1 , 'ArrivalDate_WeekDay':'Monday'}\n",
    "clusterTree.getClusterID(info)\n",
    "\n"
   ]
  },
  {
   "cell_type": "code",
   "execution_count": 9,
   "metadata": {},
   "outputs": [
    {
     "data": {
      "text/plain": [
       "('suddenleisurefamilygetaway', 1.0)"
      ]
     },
     "execution_count": 9,
     "metadata": {},
     "output_type": "execute_result"
    }
   ],
   "source": [
    "info = {'Adults': 2,'Children': 1,'LeadDays': 3,'LengthOfStay':1 , 'ArrivalDate_WeekDay':'friday'}\n",
    "clusterTree.getClusterID(info)"
   ]
  },
  {
   "cell_type": "code",
   "execution_count": 10,
   "metadata": {},
   "outputs": [
    {
     "data": {
      "text/plain": [
       "('personaltimeoff', 1.0)"
      ]
     },
     "execution_count": 10,
     "metadata": {},
     "output_type": "execute_result"
    }
   ],
   "source": [
    "info = {}\n",
    "clusterTree.getClusterID(info)"
   ]
  },
  {
   "cell_type": "code",
   "execution_count": 11,
   "metadata": {},
   "outputs": [
    {
     "data": {
      "text/plain": [
       "{'adults': 1,\n",
       " 'children': 0,\n",
       " 'leaddays': 10,\n",
       " 'lengthofstay': 2,\n",
       " 'arrivaldate_weekday': 'friday'}"
      ]
     },
     "execution_count": 11,
     "metadata": {},
     "output_type": "execute_result"
    }
   ],
   "source": [
    "clusterTree.defaultVals"
   ]
  },
  {
   "cell_type": "code",
   "execution_count": 18,
   "metadata": {},
   "outputs": [
    {
     "data": {
      "text/plain": [
       "array([ 7.500e+00,  2.500e+00,  5.000e-01,  1.500e+00,  1.450e+01,\n",
       "        1.500e+00,  5.000e-01, -2.000e+00,  5.000e-01,  5.000e-01,\n",
       "        5.000e-01, -2.000e+00, -2.000e+00, -2.000e+00, -2.000e+00,\n",
       "        5.000e-01,  5.000e-01,  5.000e-01, -2.000e+00, -2.000e+00,\n",
       "       -2.000e+00, -2.000e+00,  5.000e-01,  5.000e-01,  5.000e-01,\n",
       "       -2.000e+00, -2.000e+00, -2.000e+00, -2.000e+00,  1.001e+03,\n",
       "        5.000e-01,  5.000e-01, -2.000e+00,  1.500e+00, -2.000e+00,\n",
       "       -2.000e+00,  1.500e+00, -2.000e+00, -2.000e+00, -2.000e+00,\n",
       "        5.000e-01,  5.000e-01,  5.000e-01,  1.500e+00, -2.000e+00,\n",
       "       -2.000e+00, -2.000e+00,  6.500e+00,  1.500e+00,  5.000e-01,\n",
       "       -2.000e+00, -2.000e+00, -2.000e+00, -2.000e+00,  6.500e+00,\n",
       "        1.500e+00,  5.000e-01, -2.000e+00, -2.000e+00, -2.000e+00,\n",
       "       -2.000e+00,  5.000e-01,  1.500e+00,  5.500e+00,  2.150e+01,\n",
       "        5.000e-01,  5.000e-01, -2.000e+00, -2.000e+00, -2.000e+00,\n",
       "        5.000e-01,  5.000e-01, -2.000e+00, -2.000e+00, -2.000e+00,\n",
       "       -2.000e+00,  5.000e-01,  5.000e-01, -2.000e+00,  6.500e+00,\n",
       "       -2.000e+00, -2.000e+00,  6.500e+00, -2.000e+00, -2.000e+00,\n",
       "        5.000e-01,  5.000e-01, -2.000e+00,  6.500e+00, -2.000e+00,\n",
       "       -2.000e+00,  6.500e+00, -2.000e+00, -2.000e+00, -2.000e+00])"
      ]
     },
     "execution_count": 18,
     "metadata": {},
     "output_type": "execute_result"
    }
   ],
   "source": [
    "tree.tree_.threshold"
   ]
  },
  {
   "cell_type": "code",
   "execution_count": 19,
   "metadata": {},
   "outputs": [
    {
     "data": {
      "text/plain": [
       "array([[[ 80., 128., 112., ...,  64.,  32., 112.]],\n",
       "\n",
       "       [[ 80., 128.,   0., ...,  64.,  32., 112.]],\n",
       "\n",
       "       [[  0., 128.,   0., ...,  64.,   0., 112.]],\n",
       "\n",
       "       ...,\n",
       "\n",
       "       [[  0.,   0.,   0., ...,   0.,  16.,   0.]],\n",
       "\n",
       "       [[  0.,   0.,   0., ...,   0.,   0.,   0.]],\n",
       "\n",
       "       [[  0.,   0., 112., ...,   0.,   0.,   0.]]])"
      ]
     },
     "execution_count": 19,
     "metadata": {},
     "output_type": "execute_result"
    }
   ],
   "source": [
    "tree.tree_.value"
   ]
  },
  {
   "cell_type": "code",
   "execution_count": 26,
   "metadata": {},
   "outputs": [],
   "source": [
    "# 7 is a leaf node\n",
    "# -2 flag is used to denote leaf"
   ]
  },
  {
   "cell_type": "code",
   "execution_count": 28,
   "metadata": {},
   "outputs": [
    {
     "data": {
      "text/plain": [
       "array([ 0.,  0.,  0.,  0.,  0.,  0.,  0.,  0.,  0.,  0.,  0.,  0.,  0.,\n",
       "        0.,  0.,  0.,  0.,  0.,  0., 28.])"
      ]
     },
     "execution_count": 28,
     "metadata": {},
     "output_type": "execute_result"
    }
   ],
   "source": [
    "tree.tree_.value[7][0]"
   ]
  },
  {
   "cell_type": "code",
   "execution_count": 24,
   "metadata": {},
   "outputs": [
    {
     "data": {
      "text/plain": [
       "array([ 1,  1,  0,  2,  3,  1,  3, -2, 10,  7,  9, -2, -2, -2, -2, 10,  9,\n",
       "        7, -2, -2, -2, -2,  9, 10,  7, -2, -2, -2, -2,  2,  9,  7, -2,  3,\n",
       "       -2, -2,  3, -2, -2, -2,  9,  7,  3,  1, -2, -2, -2,  3,  1,  3, -2,\n",
       "       -2, -2, -2,  3,  1,  3, -2, -2, -2, -2,  0,  2,  1,  3,  7,  9, -2,\n",
       "       -2, -2,  7,  9, -2, -2, -2, -2,  9,  7, -2,  3, -2, -2,  3, -2, -2,\n",
       "        9,  7, -2,  3, -2, -2,  3, -2, -2, -2])"
      ]
     },
     "execution_count": 24,
     "metadata": {},
     "output_type": "execute_result"
    }
   ],
   "source": [
    "tree.tree_.feature"
   ]
  },
  {
   "cell_type": "code",
   "execution_count": 29,
   "metadata": {},
   "outputs": [
    {
     "data": {
      "text/plain": [
       "array([ 1,  2,  3,  4,  5,  6,  7, -1,  9, 10, 11, -1, -1, -1, -1, 16, 17,\n",
       "       18, -1, -1, -1, -1, 23, 24, 25, -1, -1, -1, -1, 30, 31, 32, -1, 34,\n",
       "       -1, -1, 37, -1, -1, -1, 41, 42, 43, 44, -1, -1, -1, 48, 49, 50, -1,\n",
       "       -1, -1, -1, 55, 56, 57, -1, -1, -1, -1, 62, 63, 64, 65, 66, 67, -1,\n",
       "       -1, -1, 71, 72, -1, -1, -1, -1, 77, 78, -1, 80, -1, -1, 83, -1, -1,\n",
       "       86, 87, -1, 89, -1, -1, 92, -1, -1, -1])"
      ]
     },
     "execution_count": 29,
     "metadata": {},
     "output_type": "execute_result"
    }
   ],
   "source": [
    "tree.tree_.children_left"
   ]
  },
  {
   "cell_type": "code",
   "execution_count": 30,
   "metadata": {},
   "outputs": [
    {
     "data": {
      "text/plain": [
       "array([ 1,  2,  3,  4,  5,  6,  7, -1,  9, 10, 11, -1, -1, -1, -1, 16, 17,\n",
       "       18, -1, -1, -1, -1, 23, 24, 25, -1, -1, -1, -1, 30, 31, 32, -1, 34,\n",
       "       -1, -1, 37, -1, -1, -1, 41, 42, 43, 44, -1, -1, -1, 48, 49, 50, -1,\n",
       "       -1, -1, -1, 55, 56, 57, -1, -1, -1, -1, 62, 63, 64, 65, 66, 67, -1,\n",
       "       -1, -1, 71, 72, -1, -1, -1, -1, 77, 78, -1, 80, -1, -1, 83, -1, -1,\n",
       "       86, 87, -1, 89, -1, -1, 92, -1, -1, -1])"
      ]
     },
     "execution_count": 30,
     "metadata": {},
     "output_type": "execute_result"
    }
   ],
   "source": [
    "tree.tree_.children_left"
   ]
  },
  {
   "cell_type": "code",
   "execution_count": null,
   "metadata": {},
   "outputs": [],
   "source": []
  }
 ],
 "metadata": {
  "kernelspec": {
   "display_name": "Python 3",
   "language": "python",
   "name": "python3"
  },
  "language_info": {
   "codemirror_mode": {
    "name": "ipython",
    "version": 3
   },
   "file_extension": ".py",
   "mimetype": "text/x-python",
   "name": "python",
   "nbconvert_exporter": "python",
   "pygments_lexer": "ipython3",
   "version": "3.6.9"
  }
 },
 "nbformat": 4,
 "nbformat_minor": 2
}
