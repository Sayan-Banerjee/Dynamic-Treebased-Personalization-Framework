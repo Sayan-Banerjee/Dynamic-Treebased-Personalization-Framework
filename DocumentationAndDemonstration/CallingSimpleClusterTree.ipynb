{
 "cells": [
  {
   "cell_type": "code",
   "execution_count": 1,
   "metadata": {},
   "outputs": [],
   "source": [
    "try:\n",
    "    import cPickle as pickle\n",
    "except ImportError:  # python 3.x\n",
    "    import pickle\n",
    "import os\n",
    "import sys\n",
    "sys.path.append('..')"
   ]
  },
  {
   "cell_type": "code",
   "execution_count": 2,
   "metadata": {},
   "outputs": [],
   "source": [
    "from ClusterTree import *\n",
    "from ReadWritePickleFile import readPicklefile"
   ]
  },
  {
   "cell_type": "code",
   "execution_count": 3,
   "metadata": {},
   "outputs": [],
   "source": [
    "sourcePath =  './Integration-Test-1-withOption2-conquer_V3.pickle'\n",
    "clusterTree = readPicklefile(sourcePath)"
   ]
  },
  {
   "cell_type": "code",
   "execution_count": 4,
   "metadata": {},
   "outputs": [
    {
     "data": {
      "text/plain": [
       "('test-w/option-2_v3__cluster_4', 3.0)"
      ]
     },
     "execution_count": 4,
     "metadata": {},
     "output_type": "execute_result"
    }
   ],
   "source": [
    "info = {'Adults': 2,'Children': 1,'LeadDays': 3,'LengthOfStay':1 , 'ArrivalDate_WeekDay':'Friday'}\n",
    "clusterTree.getClusterID(info)"
   ]
  },
  {
   "cell_type": "code",
   "execution_count": 5,
   "metadata": {},
   "outputs": [
    {
     "data": {
      "text/plain": [
       "('test-w/option-2_v3__cluster_4', 3.0)"
      ]
     },
     "execution_count": 5,
     "metadata": {},
     "output_type": "execute_result"
    }
   ],
   "source": [
    "info = {'Adults': 2,'Children': 1,'LeadDays': 3,'LengthOfStay':1 , 'ArrivalDate_WeekDay':'Sat'}\n",
    "clusterTree.getClusterID(info)"
   ]
  },
  {
   "cell_type": "code",
   "execution_count": 6,
   "metadata": {},
   "outputs": [
    {
     "data": {
      "text/plain": [
       "('test-w/option-2_v3__cluster_0', 3.0)"
      ]
     },
     "execution_count": 6,
     "metadata": {},
     "output_type": "execute_result"
    }
   ],
   "source": [
    "info = {'Adults': 2,'Children': 1,'LeadDays': 3,'LengthOfStay':1 , 'ArrivalDate_WeekDay':'Mon'}\n",
    "clusterTree.getClusterID(info)"
   ]
  },
  {
   "cell_type": "code",
   "execution_count": 7,
   "metadata": {},
   "outputs": [
    {
     "data": {
      "text/plain": [
       "('test-w/option-2_v3__cluster_1', 3.0)"
      ]
     },
     "execution_count": 7,
     "metadata": {},
     "output_type": "execute_result"
    }
   ],
   "source": [
    "info = {'Adults': 2,'LeadDays': 3 , 'ArrivalDate_WeekDay':'Mon'}\n",
    "clusterTree.getClusterID(info)"
   ]
  },
  {
   "cell_type": "code",
   "execution_count": 8,
   "metadata": {},
   "outputs": [
    {
     "data": {
      "text/plain": [
       "{'adults': 1,\n",
       " 'children': 0,\n",
       " 'leaddays': 0,\n",
       " 'lengthofstay': 1,\n",
       " 'arrivaldate_weekday': 'saturday'}"
      ]
     },
     "execution_count": 8,
     "metadata": {},
     "output_type": "execute_result"
    }
   ],
   "source": [
    "clusterTree.defaultVals"
   ]
  },
  {
   "cell_type": "code",
   "execution_count": null,
   "metadata": {},
   "outputs": [],
   "source": []
  },
  {
   "cell_type": "code",
   "execution_count": 10,
   "metadata": {},
   "outputs": [],
   "source": [
    "sourcePath =  './Integration-Test-2-withOption2-Centroids_V3.pickle'\n",
    "clusterTree = readPicklefile(sourcePath)"
   ]
  },
  {
   "cell_type": "code",
   "execution_count": 11,
   "metadata": {},
   "outputs": [
    {
     "data": {
      "text/plain": [
       "('test-centroid-w/option-2_v3__cluster_8', 2.0)"
      ]
     },
     "execution_count": 11,
     "metadata": {},
     "output_type": "execute_result"
    }
   ],
   "source": [
    "info = {'Adults': 2,'Children': 1,'LeadDays': 3,'LengthOfStay':1 , 'ArrivalDate_WeekDay':'Friday'}\n",
    "clusterTree.getClusterID(info)"
   ]
  },
  {
   "cell_type": "code",
   "execution_count": 12,
   "metadata": {},
   "outputs": [
    {
     "data": {
      "text/plain": [
       "('test-centroid-w/option-2_v3__cluster_8', 2.0)"
      ]
     },
     "execution_count": 12,
     "metadata": {},
     "output_type": "execute_result"
    }
   ],
   "source": [
    "info = {'Adults': 2,'Children': 1,'LeadDays': 3,'LengthOfStay':1 , 'ArrivalDate_WeekDay':'Sat'}\n",
    "clusterTree.getClusterID(info)"
   ]
  },
  {
   "cell_type": "code",
   "execution_count": 13,
   "metadata": {},
   "outputs": [
    {
     "data": {
      "text/plain": [
       "('test-centroid-w/option-2_v3__cluster_3', 2.0)"
      ]
     },
     "execution_count": 13,
     "metadata": {},
     "output_type": "execute_result"
    }
   ],
   "source": [
    "info = {'Adults': 2,'Children': 1,'LeadDays': 3,'LengthOfStay':1 , 'ArrivalDate_WeekDay':'Mon'}\n",
    "clusterTree.getClusterID(info)"
   ]
  },
  {
   "cell_type": "code",
   "execution_count": 14,
   "metadata": {},
   "outputs": [
    {
     "data": {
      "text/plain": [
       "('test-centroid-w/option-2_v3__cluster_4', 2.0)"
      ]
     },
     "execution_count": 14,
     "metadata": {},
     "output_type": "execute_result"
    }
   ],
   "source": [
    "info = {'Adults': 2,'LeadDays': 3 , 'ArrivalDate_WeekDay':'Mon'}\n",
    "clusterTree.getClusterID(info)"
   ]
  },
  {
   "cell_type": "code",
   "execution_count": 15,
   "metadata": {},
   "outputs": [
    {
     "data": {
      "text/plain": [
       "{'adults': 1,\n",
       " 'children': 0,\n",
       " 'leaddays': 0,\n",
       " 'lengthofstay': 1,\n",
       " 'arrivaldate_weekday': 'saturday'}"
      ]
     },
     "execution_count": 15,
     "metadata": {},
     "output_type": "execute_result"
    }
   ],
   "source": [
    "clusterTree.defaultVals"
   ]
  },
  {
   "cell_type": "code",
   "execution_count": null,
   "metadata": {},
   "outputs": [],
   "source": []
  },
  {
   "cell_type": "code",
   "execution_count": 30,
   "metadata": {},
   "outputs": [],
   "source": [
    "sourcePath =  './Integration-Test-5-withOption-1_V3.pickle'\n",
    "clusterTree = readPicklefile(sourcePath)"
   ]
  },
  {
   "cell_type": "code",
   "execution_count": 31,
   "metadata": {},
   "outputs": [
    {
     "data": {
      "text/plain": [
       "('suddenleisurefamilygetaway', 1.0)"
      ]
     },
     "execution_count": 31,
     "metadata": {},
     "output_type": "execute_result"
    }
   ],
   "source": [
    "info = {'Adults': 2,'Children': 1,'LeadDays': 3,'LengthOfStay':1 , 'ArrivalDate_WeekDay':'Friday'}\n",
    "clusterTree.getClusterID(info)"
   ]
  },
  {
   "cell_type": "code",
   "execution_count": 51,
   "metadata": {},
   "outputs": [
    {
     "data": {
      "text/plain": [
       "('suddenleisurefamilygetaway', 1.0)"
      ]
     },
     "execution_count": 51,
     "metadata": {},
     "output_type": "execute_result"
    }
   ],
   "source": [
    "info = {'Adults': 2,'Children': 1,'LeadDays': 3,'LengthOfStay':1 , 'ArrivalDate_WeekDay':'Saturday'}\n",
    "clusterTree.getClusterID(info)"
   ]
  },
  {
   "cell_type": "code",
   "execution_count": 49,
   "metadata": {},
   "outputs": [
    {
     "data": {
      "text/plain": [
       "('midweekfamilygetaway', 1.0)"
      ]
     },
     "execution_count": 49,
     "metadata": {},
     "output_type": "execute_result"
    }
   ],
   "source": [
    "info = {'Adults': 2,'Children': 1,'LeadDays': 3,'LengthOfStay':1 , 'ArrivalDate_WeekDay':'Monday'}\n",
    "clusterTree.getClusterID(info)"
   ]
  },
  {
   "cell_type": "code",
   "execution_count": 34,
   "metadata": {},
   "outputs": [
    {
     "data": {
      "text/plain": [
       "('personaltimeoff', 1.0)"
      ]
     },
     "execution_count": 34,
     "metadata": {},
     "output_type": "execute_result"
    }
   ],
   "source": [
    "info = {}\n",
    "clusterTree.getClusterID(info)"
   ]
  },
  {
   "cell_type": "code",
   "execution_count": 35,
   "metadata": {},
   "outputs": [
    {
     "data": {
      "text/plain": [
       "{'adults': 1,\n",
       " 'children': 0,\n",
       " 'leaddays': 10,\n",
       " 'lengthofstay': 2,\n",
       " 'arrivaldate_weekday': 'friday'}"
      ]
     },
     "execution_count": 35,
     "metadata": {},
     "output_type": "execute_result"
    }
   ],
   "source": [
    "clusterTree.defaultVals"
   ]
  },
  {
   "cell_type": "code",
   "execution_count": null,
   "metadata": {},
   "outputs": [],
   "source": []
  }
 ],
 "metadata": {
  "kernelspec": {
   "display_name": "Python 3",
   "language": "python",
   "name": "python3"
  },
  "language_info": {
   "codemirror_mode": {
    "name": "ipython",
    "version": 3
   },
   "file_extension": ".py",
   "mimetype": "text/x-python",
   "name": "python",
   "nbconvert_exporter": "python",
   "pygments_lexer": "ipython3",
   "version": "3.6.9"
  }
 },
 "nbformat": 4,
 "nbformat_minor": 2
}
