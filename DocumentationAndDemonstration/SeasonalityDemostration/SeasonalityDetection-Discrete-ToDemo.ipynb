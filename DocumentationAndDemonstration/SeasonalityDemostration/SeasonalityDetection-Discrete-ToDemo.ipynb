{
 "cells": [
  {
   "cell_type": "markdown",
   "metadata": {},
   "source": [
    "This Notebook demostrate the functionality of discrete seasonality. \n",
    "Discrete seanality core algorithm expects a data of 12 rows and each row will represent each month. \n",
    "Also the rows are ordered by month. Ex. : January at row 0 and December at row 11. \n",
    "\n",
    "The core algorithm is stateless. Given each month's representation at each rows it tries to figure out which month are most similar by given representation and group 2 at a time and continue until breaking condtion is reached. \n",
    "\n",
    "Here more crticial part is how do you want to represent the data to represent a month?\n",
    "Do you want to use Booking trend data?\n",
    "Booking Trend by what?\n",
    "Do you want to include night qty and room qty in data?\n",
    "Do you want to include each individual dates?\n",
    "\n",
    "Or do you want to represnt each month by sales statistics?\n",
    "This actually make more sense from SHS perspective...but queston is can we gather that data?\n",
    "It is just 12 row, aggregated at highest level. \n",
    "\n",
    "Irespective whatever we decide everything I can think of, have been handled. \n",
    "\n",
    "As the name suggests, it doesn't care about the \"adjacency\" of 2 months befre combining them. \n"
   ]
  },
  {
   "cell_type": "code",
   "execution_count": 1,
   "metadata": {},
   "outputs": [],
   "source": [
    "import pandas as pd\n",
    "from math import sqrt as sqrtz\n",
    "import numpy as np\n",
    "import re\n",
    "import copy\n",
    "import logging\n",
    "from numpy.linalg import norm\n",
    "import scipy.cluster.hierarchy as shc\n",
    "from sklearn import decomposition\n",
    "import time\n",
    "import matplotlib.pyplot as plt\n",
    "%matplotlib inline"
   ]
  },
  {
   "cell_type": "code",
   "execution_count": 2,
   "metadata": {},
   "outputs": [],
   "source": [
    "logging.basicConfig(format=\"%(asctime)s - %(thread)s - %(levelname)s - %(message)s\")\n",
    "logger = logging.getLogger()\n",
    "logger.setLevel(logging.INFO)"
   ]
  },
  {
   "cell_type": "code",
   "execution_count": 3,
   "metadata": {},
   "outputs": [],
   "source": [
    "def ClusterMonths_Discrete(data, plot=True):\n",
    "    \n",
    "    tree = shc.linkage(data, method='ward')\n",
    "    if plot:\n",
    "        dend = shc.dendrogram(tree)\n",
    "        \n",
    "    vertices = {i:tuple([i]) for i in range(12)}\n",
    "    i=0\n",
    "    while len(vertices)>2:\n",
    "        m = max(vertices.keys())\n",
    "        vx1 = tree[i, 0]\n",
    "        vx2 = tree[i, 1]\n",
    "        distance = tree[i, 2]\n",
    "        if len(vertices)==3 and distance>=1: \n",
    "            break\n",
    "        newVxKey = m + 1\n",
    "        vx1Val = vertices.get(int(vx1))\n",
    "        vx2Val = vertices.get(int(vx2))\n",
    "        newVxVal = vx1Val + vx2Val\n",
    "        del vertices[vx1]\n",
    "        del vertices[vx2]\n",
    "        vertices[newVxKey] = newVxVal\n",
    "        i+=1\n",
    "    \n",
    "    l = {}\n",
    "    for key in vertices.keys():\n",
    "        l[key] = len(vertices[key])\n",
    "    \n",
    "    if min(l.items(), key=lambda x: x[1])[1] == 1:\n",
    "        vertices = mergeWithNextMinimum(vertices, l)\n",
    "        \n",
    "    clusters = {}\n",
    "    ii=0\n",
    "    for key in vertices.keys():\n",
    "        ii+=1\n",
    "        months = [i+1 for i in vertices[key]]\n",
    "        cKey = '{}-{}'.format('Cluster', ii)\n",
    "        clusters[cKey] = months\n",
    "        \n",
    "    return clusters\n",
    "\n",
    "def mergeWithNextMinimum(vertices, l):\n",
    "    l = sorted(l.items(), key=lambda x: x[1])\n",
    "    vx1 = l[0][0]\n",
    "    vx2 = l[1][0]\n",
    "    m = max(vertices.keys())\n",
    "    newVxKey = m + 1\n",
    "    vx1Val = vertices.get(int(vx1))\n",
    "    vx2Val = vertices.get(int(vx2))\n",
    "    newVxVal = vx1Val + vx2Val\n",
    "    del vertices[vx1]\n",
    "    del vertices[vx2]\n",
    "    vertices[newVxKey] = newVxVal\n",
    "    return vertices"
   ]
  },
  {
   "cell_type": "code",
   "execution_count": null,
   "metadata": {},
   "outputs": [],
   "source": []
  },
  {
   "cell_type": "code",
   "execution_count": 4,
   "metadata": {},
   "outputs": [],
   "source": [
    "def readPurchaseData(sourcePath, delim=';'):\n",
    "#    *** This is a Placeholder Function to demostrate the future scope and purpose ***\n",
    "#    *** As it is a place holder function the data preparation and validations are not extensive ***\n",
    "#    At this stage the demo data(structured in .csv format) it reads, has each column as a attribute/product\n",
    "#    and each row potrays the the products/attributes shopped/purchased by each month for an entity(store). \n",
    "#    each index depicts numerical value of each month.\n",
    "    try:\n",
    "        df = pd.read_csv(sourcePath, delimiter=delim)\n",
    "    except IOError:\n",
    "        print (\"Could not read the file at {}\".format(sourcePath))\n",
    "        return None\n",
    "    newColumnNames = {}\n",
    "    for col in df.columns:\n",
    "        if col == 'Unnamed: 0' or col == 'unnamed: 0':\n",
    "            df.drop(columns=col, inplace = True)\n",
    "        else:\n",
    "            newColumnNames[col] = col.strip()\n",
    "            \n",
    "    df.rename(columns=newColumnNames, inplace=True)\n",
    "    df.fillna(value=0.0)\n",
    "    for col in df.columns:\n",
    "        df[col] = ((df[col]-df[col].min())/(df[col].max()-df[col].min()))\n",
    "    df.reset_index(inplace=True, drop = True)\n",
    "    df.index = df.index + 1\n",
    "    return df\n"
   ]
  },
  {
   "cell_type": "code",
   "execution_count": 7,
   "metadata": {},
   "outputs": [],
   "source": [
    "purchaseDataFilePath = 'ProductBoughtByMonthData.csv'\n",
    "purchaseData = readPurchaseData(purchaseDataFilePath, delim=',')"
   ]
  },
  {
   "cell_type": "code",
   "execution_count": 8,
   "metadata": {},
   "outputs": [
    {
     "data": {
      "text/plain": [
       "{'Cluster-1': [1, 10, 2, 12],\n",
       " 'Cluster-2': [9, 7, 8],\n",
       " 'Cluster-3': [11, 6, 4, 3, 5]}"
      ]
     },
     "execution_count": 8,
     "metadata": {},
     "output_type": "execute_result"
    },
    {
     "data": {
      "image/png": "[encoded data removed]",
      "text/plain": [
       "<Figure size 432x288 with 1 Axes>"
      ]
     },
     "metadata": {
      "needs_background": "light"
     },
     "output_type": "display_data"
    }
   ],
   "source": [
    "clusters = ClusterMonths_Discrete(data=purchaseData, plot=True)\n",
    "\n",
    "clusters"
   ]
  },
  {
   "cell_type": "code",
   "execution_count": 9,
   "metadata": {},
   "outputs": [
    {
     "data": {
      "text/plain": [
       "<matplotlib.axes._subplots.AxesSubplot at 0x1a1d1efe48>"
      ]
     },
     "execution_count": 9,
     "metadata": {},
     "output_type": "execute_result"
    },
    {
     "data": {
      "image/png": "[encoded data removed]",
      "text/plain": [
       "<Figure size 432x288 with 2 Axes>"
      ]
     },
     "metadata": {
      "needs_background": "light"
     },
     "output_type": "display_data"
    }
   ],
   "source": [
    "df_subset = pd.DataFrame()\n",
    "\n",
    "colorsByClusters = {'Cluster-1':'r', 'Cluster-2': 'b', 'Cluster-3':'g','Cluster-4':'c'}\n",
    "clustersInverse = {v: k for k, vl in clusters.items() for v in vl}\n",
    "pca = decomposition.PCA(n_components=2)\n",
    "pca_result = pca.fit_transform(purchaseData.values)\n",
    "df_subset['pca-one'] = pca_result[:,0]\n",
    "df_subset['pca-two'] = pca_result[:,1]\n",
    "df_subset['Month'] = df_subset.index + 1\n",
    "df_subset['Cluster'] = df_subset['Month'].apply(lambda x: int(clustersInverse.get(x)[-1]))\n",
    "df_subset.plot.scatter(x=\"pca-one\", y =\"pca-two\", c='Cluster', colormap='viridis', s = 50)"
   ]
  },
  {
   "cell_type": "code",
   "execution_count": 10,
   "metadata": {},
   "outputs": [],
   "source": [
    "tree = shc.linkage(purchaseData, method='ward')"
   ]
  },
  {
   "cell_type": "code",
   "execution_count": 11,
   "metadata": {},
   "outputs": [
    {
     "data": {
      "text/plain": [
       "array([[ 0.        ,  9.        ,  0.14502996,  2.        ],\n",
       "       [ 1.        , 11.        ,  0.21903407,  2.        ],\n",
       "       [ 6.        ,  7.        ,  0.30203873,  2.        ],\n",
       "       [ 2.        ,  4.        ,  0.31139839,  2.        ],\n",
       "       [12.        , 13.        ,  0.3169381 ,  4.        ],\n",
       "       [ 8.        , 14.        ,  0.44456658,  3.        ],\n",
       "       [ 3.        , 15.        ,  0.47958603,  3.        ],\n",
       "       [ 5.        , 18.        ,  0.53236382,  4.        ],\n",
       "       [10.        , 19.        ,  0.88633674,  5.        ],\n",
       "       [16.        , 17.        ,  3.67966084,  7.        ],\n",
       "       [20.        , 21.        ,  4.74996612, 12.        ]])"
      ]
     },
     "execution_count": 11,
     "metadata": {},
     "output_type": "execute_result"
    }
   ],
   "source": [
    "tree"
   ]
  },
  {
   "cell_type": "code",
   "execution_count": null,
   "metadata": {},
   "outputs": [],
   "source": []
  }
 ],
 "metadata": {
  "kernelspec": {
   "display_name": "Python [conda env:AI-ML] *",
   "language": "python",
   "name": "conda-env-AI-ML-py"
  },
  "language_info": {
   "codemirror_mode": {
    "name": "ipython",
    "version": 3
   },
   "file_extension": ".py",
   "mimetype": "text/x-python",
   "name": "python",
   "nbconvert_exporter": "python",
   "pygments_lexer": "ipython3",
   "version": "3.6.9"
  }
 },
 "nbformat": 4,
 "nbformat_minor": 2
}
